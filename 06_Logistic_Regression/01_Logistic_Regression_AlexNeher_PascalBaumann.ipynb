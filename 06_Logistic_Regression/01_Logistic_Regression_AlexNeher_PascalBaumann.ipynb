{
 "cells": [
  {
   "cell_type": "markdown",
   "metadata": {},
   "source": [
    "# Logistic Regression\n",
    "\n",
    "## Exercise 01 - Sigmoid Function\n",
    "\n",
    "During the lectures we derived the first derivative of the __Logistic Function__\n",
    "\n",
    "$$ \\sigma(z)=\\frac{1}{1+e^{-z}}, z\\in \\mathbb{R} $$\n",
    "\n",
    "We have verified, that the first derivative can be written as\n",
    "\n",
    "$$ \\sigma'(z)= \\sigma(z)(1-\\sigma(z)) , z\\in \\mathbb{R} $$\n",
    "\n",
    "Using the above result show, that the second derivative can be written as\n",
    "\n",
    "$$ \\sigma''(z)= \\sigma(z)(1-\\sigma(z))(1-2\\sigma(z)) , z\\in \\mathbb{R}  $$\n",
    "\n",
    "Note: Use the appropriate rules for differentiation in particular the product, quotient and chain rule! You should do this by hand!\n"
   ]
  },
  {
   "cell_type": "markdown",
   "metadata": {},
   "source": [
    "$$ \\sigma(z)' = \\frac{e^{-z}}{(1+e^{-z})^2}$$\n",
    "$$\n",
    "\\begin{align}\n",
    "    \\left[\\frac{e^{-z}}{(1+e^{-z})^2}\\right]' & = \\left[e^{-z}\\cdot\\frac{1}{(1+e^{-z})^2}\\right]'\\\\\n",
    "    & \\text{product rule } (uv)' = u'v + uv'\\\\\n",
    "    & = -e^{-z}\\cdot\\frac{1}{(1+e^{-z})^2}+e^{-z}\\cdot-2\\cdot\\frac{(-1)\\cdot e^{-z}}{(1+e^{-z})^3}\\\\\n",
    "    & = \\frac{e^{-z}}{(1+e^{-z})^2}\\left[-1-2\\cdot\\frac{(-1)\\cdot e^{-z}}{1+e^{-z}}\\right]\\\\\n",
    "    & = \\frac{e^{-z}}{(1+e^{-z})^2}\\left[-1 + 2\\cdot\\frac{e^{-z}}{1+e^{-z}}\\right]\\\\\n",
    "    & = \\frac{e^{-z}}{(1+e^{-z})^2}\\left[-1 + 2\\left[\\frac{1+e^{-z}-1}{1+e^{-z}}\\right]\\right]\\\\\n",
    "    & = \\frac{e^{-z}}{(1+e^{-z})^2}\\left[-1 + 2\\left[1-\\frac{1}{1+e^{-z}}\\right]\\right]\\\\\n",
    "    & = \\frac{e^{-z}}{(1+e^{-z})^2}\\left[-1 + 2 - 2\\cdot\\frac{1}{1+e^{-z}}\\right]\\\\\n",
    "    & = \\frac{e^{-z}}{(1+e^{-z})^2}\\left[1 - 2\\cdot\\frac{1}{1+e^{-z}}\\right]\\\\\n",
    "    & = \\left[\\frac{1 + e^{-z} - 1}{(1+e^{-z})^2}\\right]\\left[1 - 2\\cdot\\frac{1}{1+e^{-z}}\\right]\\\\\n",
    "    & = \\frac{1}{1+e^{-z}}\\left[1-\\frac{1}{1+e^{-z}}\\right]\\left[1 - 2\\cdot\\frac{1}{1+e^{-z}}\\right]\\\\\n",
    "    & = \\sigma(z)(1 - \\sigma(z))(1 - 2\\sigma(z))\n",
    "\\end{align}\n",
    "$$"
   ]
  },
  {
   "cell_type": "markdown",
   "metadata": {},
   "source": [
    "## Exercise 2 - Partial Derivative\n",
    "\n",
    "Compute (by hand) the following partial derivative\n",
    "\n",
    "$$ \\frac{\\delta}{\\delta\\theta_k}\\sigma(x^T\\theta), k=0,1,2,...,m $$\n",
    "\n",
    "where\n",
    "\n",
    "$$ x^T\\theta = [x_0=1,x_1,x_2,...,x_m]\n",
    "\\begin{bmatrix}\n",
    "    \\theta_0\\\\\n",
    "    \\theta_1\\\\\n",
    "    \\theta_2\\\\\n",
    "    \\vdots\\\\\n",
    "    \\theta_m\n",
    "\\end{bmatrix}\n",
    "= \\theta_0+\\theta_1x_1+\\theta_2x_2+\\cdots+\\theta_mx_m\n",
    "$$\n",
    "\n",
    "and $\\sigma$ is the sigmoid function from above.\n",
    "\n",
    "Note: use the derivative of $\\sigma(z)$ from above"
   ]
  },
  {
   "cell_type": "markdown",
   "metadata": {},
   "source": [
    "We will get a similar result, but as we have $\\theta_k\\cdot x_k$ the derivate of $e^{-x^T\\theta}$ becomes $-x_k\\cdot e^{-x^T\\theta}$ and thus the derivative becomes:\n",
    "$$ \\frac{\\delta}{\\delta\\theta_k}\\sigma(x^T\\theta) = x_k\\cdot\\sigma(x^T\\theta)(1-\\sigma(x^T\\theta)$$\n"
   ]
  },
  {
   "cell_type": "code",
   "execution_count": null,
   "metadata": {},
   "outputs": [],
   "source": []
  }
 ],
 "metadata": {
  "kernelspec": {
   "display_name": "Python 3",
   "language": "python",
   "name": "python3"
  },
  "language_info": {
   "codemirror_mode": {
    "name": "ipython",
    "version": 3
   },
   "file_extension": ".py",
   "mimetype": "text/x-python",
   "name": "python",
   "nbconvert_exporter": "python",
   "pygments_lexer": "ipython3",
   "version": "3.7.0"
  }
 },
 "nbformat": 4,
 "nbformat_minor": 2
}
