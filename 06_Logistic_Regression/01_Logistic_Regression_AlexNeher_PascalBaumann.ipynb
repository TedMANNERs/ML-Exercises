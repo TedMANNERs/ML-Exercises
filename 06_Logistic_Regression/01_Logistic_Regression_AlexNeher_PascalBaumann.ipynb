{
 "cells": [
  {
   "cell_type": "markdown",
   "metadata": {},
   "source": [
    "# Logistic Regression\n",
    "\n",
    "## Exercise 01 - Sigmoid Function\n",
    "\n",
    "During the lectures we derived the first derivateive of the __Logistic Function__\n",
    "\n",
    "$$ \\sigma(z)=\\frac{1}{1+e^{-z}}, z\\in \\mathbb{R} $$\n",
    "\n",
    "We have verified, that the first derivative can be written as\n",
    "\n",
    "$$ \\sigma'(z)= \\sigma(z)(1-\\sigma(z)) , z\\in \\mathbb{R} $$\n",
    "\n",
    "Using the above result show, that the second derivative can be written as\n",
    "\n",
    "$$ \\sigma''(z)= \\sigma(z)(1-\\sigma(z))(1-2\\sigma(z)) , z\\in \\mathbb{R}  $$\n",
    "\n",
    "Note: Use the appropriate rules for differentiation in particular the product, quotient and chain rule! You should do this by hand!\n"
   ]
  },
  {
   "cell_type": "markdown",
   "metadata": {},
   "source": []
  },
  {
   "cell_type": "markdown",
   "metadata": {},
   "source": [
    "## Exercise 2 - Partial Derivative\n",
    "\n",
    "Compute (by hand) the following partial derivative\n",
    "\n",
    "$$ \\frac{\\delta}{\\delta\\theta_k}\\sigma(x^T\\theta), k=0,1,2,...,m $$\n",
    "\n",
    "where\n",
    "\n",
    "$$ \\sigma(x^T\\theta) = [x_0=1,x_1,x_2,...,x_m]\n",
    "\\begin{bmatrix}\n",
    "    \\theta_0\\\\\n",
    "    \\theta_1\\\\\n",
    "    \\theta_2\\\\\n",
    "    \\vdots\\\\\n",
    "    \\theta_m\n",
    "\\end{bmatrix}\n",
    "= \\theta_0+\\theta_1x_1+\\theta_2x_2+\\cdots+\\theta_mx_m\n",
    "$$\n",
    "\n",
    "and $\\sigma$ is the sigmoid function from above.\n",
    "\n",
    "Note: use the derivative of $\\sigma(z)$ from above"
   ]
  },
  {
   "cell_type": "markdown",
   "metadata": {},
   "source": []
  }
 ],
 "metadata": {
  "kernelspec": {
   "display_name": "Python 3",
   "language": "python",
   "name": "python3"
  },
  "language_info": {
   "codemirror_mode": {
    "name": "ipython",
    "version": 3
   },
   "file_extension": ".py",
   "mimetype": "text/x-python",
   "name": "python",
   "nbconvert_exporter": "python",
   "pygments_lexer": "ipython3",
   "version": "3.7.0"
  }
 },
 "nbformat": 4,
 "nbformat_minor": 2
}
