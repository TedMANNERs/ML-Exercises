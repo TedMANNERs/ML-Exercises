{
 "cells": [
  {
   "cell_type": "markdown",
   "metadata": {},
   "source": [
    "# Exercise 1: Hession normal form of a straight line\n",
    "\n",
    "Write doewn the HNF of $g$ (red line in the figure below) which is perpendicular to $w$ and compute, using the HNF, the distance of point (2,5) from $g$. Identify $+HP$ and $-HP$.\n",
    "\n",
    "Make sure to normalize $w$ to length 1.\n",
    "\n",
    "Convert the HNF to the form\n",
    "\n",
    "\\begin{align*}\n",
    "    ax + by + c = 0\n",
    "\\end{align*}\n",
    "\n",
    "Check your results by inserting points on the line into the corresponding equations!"
   ]
  },
  {
   "cell_type": "markdown",
   "metadata": {},
   "source": [
    "![Exercise_01](imgs/Ex_1.png)"
   ]
  },
  {
   "cell_type": "markdown",
   "metadata": {},
   "source": [
    "$\n",
    "    w = \\begin{bmatrix} \n",
    "        3 \\\\ \n",
    "        4 \n",
    "    \\end{bmatrix}\n",
    "$\n",
    "\n",
    "$\n",
    "    \\vec{n} = \\dfrac{1}{\\sqrt{3^2+4^2}} \\cdot\n",
    "    \\begin{bmatrix} \n",
    "        3 \\\\ \n",
    "        4 \n",
    "    \\end{bmatrix} = \\dfrac{1}{\\sqrt{9+16}} \\cdot \n",
    "    \\begin{bmatrix} \n",
    "        3 \\\\ \n",
    "        4 \n",
    "    \\end{bmatrix} = \\dfrac{1}{\\sqrt{25}} \\cdot \n",
    "    \\begin{bmatrix} \n",
    "        3 \\\\ \n",
    "        4 \n",
    "    \\end{bmatrix} = \\dfrac{1}{5} \\cdot \n",
    "    \\begin{bmatrix} \n",
    "        3 \\\\ \n",
    "        4 \n",
    "    \\end{bmatrix}\n",
    "$\n",
    "\n",
    "$\n",
    "x_{0} = (2,1)\n",
    "$"
   ]
  },
  {
   "cell_type": "markdown",
   "metadata": {},
   "source": [
    "---------------------------"
   ]
  },
  {
   "cell_type": "markdown",
   "metadata": {},
   "source": [
    "HNF:\n",
    "\n",
    "\\begin{equation*}\n",
    "    \\vec{n} \\bullet (\\vec{x}-\\vec{x_{0}}) = 0\n",
    "\\end{equation*}\n",
    "\n",
    "\\begin{equation*}\n",
    "    \\dfrac{1}{5} \\cdot \n",
    "    \\begin{bmatrix} \n",
    "        3 \\\\ \n",
    "        4 \n",
    "    \\end{bmatrix} \\bullet \\bigg(\n",
    "    \\begin{bmatrix}\n",
    "    x \\\\\n",
    "    y\n",
    "    \\end{bmatrix} - \n",
    "    \\begin{bmatrix}\n",
    "    2 \\\\\n",
    "    1\n",
    "    \\end{bmatrix} \\bigg)  = 0\n",
    "\\end{equation*}\n",
    "\n",
    "\\begin{equation*}\n",
    "    \\dfrac{1}{5} \\cdot (3(x-2) + 4(y-1)) = 0\n",
    "\\end{equation*}\n",
    "\n",
    "\\begin{equation*}\n",
    "    \\dfrac{1}{5} \\cdot (3x - 6 + 4y - 4) = 0\n",
    "\\end{equation*}\n",
    "\n",
    "\\begin{equation*}\n",
    "    \\dfrac{1}{5} \\cdot (3x + 4y - 10) = 0\n",
    "\\end{equation*}\n",
    "\n",
    "\\begin{equation*}\n",
    "    \\dfrac{3}{5}x + \\dfrac{4}{5}y - 2 = 0\n",
    "\\end{equation*}"
   ]
  },
  {
   "cell_type": "markdown",
   "metadata": {},
   "source": [
    "Inserted $\\begin{bmatrix} -2 \\\\ 4 \\end{bmatrix}$:\n",
    "\n",
    "\\begin{equation*}\n",
    "     \\big( \\dfrac{3}{5} \\cdot (-2) \\big)  + \\big( \\dfrac{4}{5} \\cdot 4 \\big) - 2 = 0\n",
    "\\end{equation*}\n",
    "\n",
    "\\begin{equation*}\n",
    "     \\big( -\\dfrac{6}{5}\\big)  + \\big( \\dfrac{16}{5} \\big) - 2 = 0\n",
    "\\end{equation*}\n",
    "\n",
    "\\begin{equation*}\n",
    "     \\dfrac{10}{5} - 2 = 0\n",
    "\\end{equation*}\n",
    "\n",
    "\\begin{matrix}\n",
    "    \\begin{equation*}\n",
    "        2 - 2 = 0\n",
    "    \\end{equation*}\n",
    "     & \n",
    "    \\checkmark\n",
    "\\end{matrix}\n",
    "\n"
   ]
  },
  {
   "cell_type": "markdown",
   "metadata": {},
   "source": [
    "Inserted $\\begin{bmatrix} 0 \\\\ 2.5 \\end{bmatrix}$:\n",
    "\n",
    "\\begin{equation*}\n",
    "     \\big( \\dfrac{3}{5} \\cdot 0 \\big)  + \\big( \\dfrac{4}{5} \\cdot 2.5 \\big) - 2 = 0\n",
    "\\end{equation*}\n",
    "\n",
    "\\begin{equation*}\n",
    "     \\dfrac{10}{5} - 2 = 0\n",
    "\\end{equation*}\n",
    "\n",
    "\\begin{matrix}\n",
    "    \\begin{equation*}\n",
    "        2 - 2 = 0\n",
    "    \\end{equation*}\n",
    "     & \n",
    "    \\checkmark\n",
    "\\end{matrix}\n",
    "\n"
   ]
  },
  {
   "cell_type": "markdown",
   "metadata": {},
   "source": [
    "Distance from $g$ to $\\begin{bmatrix} 2 \\\\ 5 \\end{bmatrix}$:\n",
    "\n",
    "\\begin{equation*}\n",
    "     \\big( \\dfrac{3}{5} \\cdot 2 \\big)  + \\big( \\dfrac{4}{5} \\cdot 5 \\big) - 2\n",
    "\\end{equation*}\n",
    "\n",
    "\\begin{equation*}\n",
    "     \\dfrac{6}{5}  + \\dfrac{20}{5} - 2\n",
    "\\end{equation*}\n",
    "\n",
    "\\begin{equation*}\n",
    "     \\dfrac{26}{5} - \\dfrac{10}{5} = 3.2 \\rightarrow d = 3.2\n",
    "\\end{equation*}\n",
    "\n",
    "\\begin{equation*}\n",
    "    d > 0 \\rightarrow \n",
    "    \\begin{bmatrix}\n",
    "        2 \\\\\n",
    "        5\n",
    "    \\end{bmatrix} \\in +HP\n",
    "\\end{equation*}\n",
    "\n"
   ]
  },
  {
   "cell_type": "markdown",
   "metadata": {},
   "source": [
    "# Exercise 2: Simple Example\n",
    "\n",
    "For the decision problem with two classes **blue** (blue squares, $y=1$) and **red** (red circles, $y=-1$) depicted below find, using only graphical means, i.e. there is no complicated mathematical machinery involved, other then basic geometrical math.\n",
    "\n",
    "1. The support vectors\n",
    "2. The non-support vectors\n",
    "3. The *decision function* in the form $w_{1} x_{1} + w_{2}x{2} + b=0$\n",
    "    such that for the support vectors the following holds: $w_{1} x_{1} + w_{2}x{2} + b = \\pm 1$\n",
    "4. Draw the decision line in the graph below.\n"
   ]
  },
  {
   "cell_type": "markdown",
   "metadata": {},
   "source": [
    "![Exercise 2](imgs/Ex_2.png)"
   ]
  },
  {
   "cell_type": "markdown",
   "metadata": {},
   "source": [
    "# Exercise 3: Simple Example\n",
    "\n",
    "Given the decision problem of the previous exercise\n",
    "\n",
    "1. Write down the minimization problem (see top of slide 27/44)\n",
    "2. Write down the minimization problem using the method of Lagrangian multipliers (see middle of slide 27/44)\n",
    "3. Write down the dual problem using th partial derivatives in the middle of slide 28/44)\n",
    "\n",
    "Note: Here you'll have to use the math behind the SVM!"
   ]
  },
  {
   "cell_type": "markdown",
   "metadata": {},
   "source": [
    "# Exercise 4: (Almost) real word examples\n",
    "\n",
    "Fill in the missing sections in the (almost) real world examples of `01_svm_gap_solution.ipynb` and make the Jupyter Notebook runnable. Save your findings into the appropriate subfolder `Übungsablage` in the `05_SVM` folder on ILIAS."
   ]
  },
  {
   "cell_type": "code",
   "execution_count": null,
   "metadata": {},
   "outputs": [],
   "source": []
  }
 ],
 "metadata": {
  "kernelspec": {
   "display_name": "Python 3",
   "language": "python",
   "name": "python3"
  },
  "language_info": {
   "codemirror_mode": {
    "name": "ipython",
    "version": 3
   },
   "file_extension": ".py",
   "mimetype": "text/x-python",
   "name": "python",
   "nbconvert_exporter": "python",
   "pygments_lexer": "ipython3",
   "version": "3.7.3"
  },
  "latex_envs": {
   "LaTeX_envs_menu_present": true,
   "autoclose": false,
   "autocomplete": true,
   "bibliofile": "biblio.bib",
   "cite_by": "apalike",
   "current_citInitial": 1,
   "eqLabelWithNumbers": true,
   "eqNumInitial": 1,
   "hotkeys": {
    "equation": "Ctrl-E",
    "itemize": "Ctrl-I"
   },
   "labels_anchors": false,
   "latex_user_defs": false,
   "report_style_numbering": false,
   "user_envs_cfg": false
  }
 },
 "nbformat": 4,
 "nbformat_minor": 2
}
