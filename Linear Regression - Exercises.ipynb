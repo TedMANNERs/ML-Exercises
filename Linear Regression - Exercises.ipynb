{
 "cells": [
  {
   "cell_type": "markdown",
   "metadata": {},
   "source": [
    "# Exercise 1: Number of disk I/O’s versus processor time"
   ]
  },
  {
   "cell_type": "markdown",
   "metadata": {},
   "source": [
    "**The number of disk I/O’s and processor times of 7 programs were measured as (14, 2), (16, 5), (27, 7), (42, 9), (83, 20), (50, 13), (39, 10).**"
   ]
  },
  {
   "cell_type": "markdown",
   "metadata": {},
   "source": [
    "*1. Compute $\\bar{x}$, $\\bar{y}$ (Slide 9/40); $S_{xy} , S_{xx} , S_{yy}$ (Slide 10/40); $θ_{1} , θ_{0}$ (Slide 9/40)*"
   ]
  },
  {
   "cell_type": "markdown",
   "metadata": {},
   "source": [
    "\\begin{align*}\n",
    "    \\bar{y} = \\frac{1}{n} \\sum_{i=1}^{n} y_{i} &&\n",
    "    \\bar{x} = \\frac{1}{n} \\sum_{i=1}^{n} x_{i} \\\\\n",
    "    S_{xx} = \\sum_{i=1}^{n}(x_{i} - \\bar{x})^2 &&\n",
    "    S_{xy} = \\sum_{i=1}^{n}(x_{i} - \\bar{x})(y_{i} - \\bar{y}) \\\\\n",
    "    \\theta^{}_{0} = \\bar{y} - \\theta^{}_{1}\\bar{x} &&\n",
    "    \\theta^{}_{1} = \\frac{S_{xy}}{S_{xx}}\n",
    "\\end{align*}"
   ]
  },
  {
   "cell_type": "code",
   "execution_count": 26,
   "metadata": {},
   "outputs": [
    {
     "name": "stdout",
     "output_type": "stream",
     "text": [
      "Mean X: 38.714286 \n",
      "Mean Y: 9.428571 \n",
      "Sxx: 3363.428571 \n",
      "Syy: 205.714286 \n",
      "Sxy: 819.857143 \n",
      "Theta0: -0.008282 \n",
      "Theta1: 0.243756\n"
     ]
    }
   ],
   "source": [
    "import numpy as np\n",
    "from matplotlib import pyplot as plt\n",
    "\n",
    "#import pandas as pd\n",
    "\n",
    "%precision 10\n",
    "%matplotlib inline\n",
    "\n",
    "x=np.array([14, 16, 27, 42, 83, 50, 39])\n",
    "y=np.array([2, 5, 7, 9, 20, 13, 10])\n",
    "\n",
    "mean_x = np.mean(x)\n",
    "mean_y = np.mean(y)\n",
    "\n",
    "Sxx = np.sum((x-mean_x)**2)\n",
    "Syy = np.sum((y-mean_y)**2)\n",
    "Sxy = np.sum((x-mean_x)*(y-mean_y))\n",
    "\n",
    "thet1 = Sxy/Sxx\n",
    "thet0 = mean_y-thet1*mean_x\n",
    "\n",
    "print(\"Mean X: %f \\nMean Y: %f \\nSxx: %f \\nSyy: %f \\nSxy: %f \\nTheta0: %f \\nTheta1: %f\" %(mean_x, mean_y, Sxx, Syy, Sxy, thet0, thet1))\n"
   ]
  },
  {
   "cell_type": "markdown",
   "metadata": {},
   "source": [
    "*2. Draw the data points together with the regression line.*"
   ]
  },
  {
   "cell_type": "code",
   "execution_count": 27,
   "metadata": {},
   "outputs": [
    {
     "data": {
      "image/png": "[encoded data removed]",
      "text/plain": [
       "<Figure size 432x288 with 1 Axes>"
      ]
     },
     "metadata": {
      "needs_background": "light"
     },
     "output_type": "display_data"
    }
   ],
   "source": [
    "plt.plot(x,y, 'bo')\n",
    "plt.plot(x,thet0+thet1*x, 'r')\n",
    "plt.show()"
   ]
  },
  {
   "cell_type": "markdown",
   "metadata": {},
   "source": [
    "*3. Compute the sum of squared errors SSE using the formula on the bottom of Slide 11/40 and compare it with the value obtained with the formula on the top of slide 19/40.*"
   ]
  },
  {
   "cell_type": "markdown",
   "metadata": {},
   "source": [
    "**Slide 11**\n",
    "\n",
    "\\begin{align*}\n",
    "    SSE = \\sum_{i=1}^{n}(e_{i})^2 = \\sum_{i=1}^{n}[(y_{i}-\\bar{y})-\\theta^{}_{1}(x_{i}-\\bar{x})]^2\n",
    "\\end{align*}"
   ]
  },
  {
   "cell_type": "code",
   "execution_count": 28,
   "metadata": {
    "scrolled": true
   },
   "outputs": [
    {
     "name": "stdout",
     "output_type": "stream",
     "text": [
      "SSE: 5.868883792048932\n"
     ]
    }
   ],
   "source": [
    "SSe = np.sum(((y-mean_y)-thet1*(x-mean_x))**2)\n",
    "print(\"SSE: \" + str(SSe))"
   ]
  },
  {
   "cell_type": "markdown",
   "metadata": {},
   "source": [
    "**Slide 19**\n",
    "\\begin{align*}\n",
    "    SSE = \\sum_{i=1}^{n}(y_{i})^2-\\theta^{}_{0}\\sum_{i=1}^{n}(y_{i})-\\theta^{}_{1}\\sum_{i=1}^{n}(x_{i}y_{i})\n",
    "\\end{align*}"
   ]
  },
  {
   "cell_type": "code",
   "execution_count": 29,
   "metadata": {},
   "outputs": [
    {
     "name": "stdout",
     "output_type": "stream",
     "text": [
      "SSE: 5.868883792048905\n"
     ]
    }
   ],
   "source": [
    "Sse = np.sum(y**2)-thet0*np.sum(y)-thet1*np.sum(x*y)\n",
    "print(\"SSE: \" + str(Sse))"
   ]
  },
  {
   "cell_type": "markdown",
   "metadata": {},
   "source": [
    "*4. Compute the Pearson correlation coefficient $r$ using the sample variances $s^2_{x}$ and $s^2_{y}$ as well as the sample covariance $s_{xy}$ (slide 16/40). Make sure You understand the difference between $S_{xy}$ and $s_{xy}$!*"
   ]
  },
  {
   "cell_type": "markdown",
   "metadata": {},
   "source": [
    "\\begin{align*}\n",
    "    r = \\frac{\\sum_{i=1}^{n}(x_{i}-\\bar{x})(y_{i}-\\bar{y})}{\\sqrt{\\sum_{i=1}^{n}(x_{i}-\\bar{x})^2}\\sqrt{\\sum_{i=1}^{n}(y_{i}-\\bar{y})^2}}\n",
    "\\end{align*}"
   ]
  },
  {
   "cell_type": "code",
   "execution_count": 30,
   "metadata": {},
   "outputs": [
    {
     "name": "stdout",
     "output_type": "stream",
     "text": [
      "r: 0.9856321341091975\n"
     ]
    }
   ],
   "source": [
    "r = (np.sum((x-mean_x)*(y-mean_y)))/(np.sqrt((np.sum((x-mean_x)**2)))*np.sqrt((np.sum((y-mean_y)**2))))\n",
    "print(\"r: \" + str(r))"
   ]
  },
  {
   "cell_type": "markdown",
   "metadata": {},
   "source": [
    "$S_{xy}$ = Summed up deviation from the mean of all points (x AND y) \n",
    "\n",
    "$s_{xy}$ = Area, in which all points reside in"
   ]
  },
  {
   "cell_type": "markdown",
   "metadata": {},
   "source": [
    "*5. Again compute SSE using the first term in the formula in the middle of slide 13/40. Compute the sum of squares explained by regression SSR which is the last term in the same formula. Then compute the total sum of squares SST and the coefficient of determination or R-squared $R^2$(slide 14/40) as well as the mean square error MSE (slide 19/40).*"
   ]
  },
  {
   "cell_type": "markdown",
   "metadata": {},
   "source": [
    "\\begin{align*}\n",
    "    SSE = \\sum_{i=1}^{n}(y_{i}-\\hat{y}_{i})^2\n",
    "\\end{align*}\n",
    "\\begin{align*}\n",
    "    SSR = \\sum_{i}^{n}(\\hat{y}_{i}-\\bar{y})^2\n",
    "\\end{align*}\n",
    "\\begin{align*}\n",
    "    SST = SSE+SSR\n",
    "\\end{align*}\n",
    "\n",
    "\n",
    "\\begin{align*}\n",
    "    R^2 = \\frac{SSR}{SST}\n",
    "\\end{align*}"
   ]
  },
  {
   "cell_type": "code",
   "execution_count": 31,
   "metadata": {},
   "outputs": [
    {
     "name": "stdout",
     "output_type": "stream",
     "text": [
      "SSE: 5.868883792048929\n",
      "SSR: 199.84540192223682\n",
      "SST: 205.71428571428575\n",
      "R^2: 0.971470703788651\n"
     ]
    }
   ],
   "source": [
    "hat_y = thet0+thet1*x\n",
    "\n",
    "SSE=np.sum(((y-hat_y))**2)\n",
    "print(\"SSE: \" + str(SSE))\n",
    "\n",
    "SSR=np.sum((hat_y-mean_y)**2)\n",
    "print(\"SSR: \" + str(SSR))\n",
    "\n",
    "SST = SSE + SSR\n",
    "print(\"SST: \" + str(SST))\n",
    "\n",
    "R_sq = SSR/SST\n",
    "print(\"R^2: \" + str(R_sq))"
   ]
  },
  {
   "cell_type": "markdown",
   "metadata": {},
   "source": [
    "*6. Give a 90 % confidence interval for $θ_{0}$ and $θ_{1}$ (slide 20/40).*"
   ]
  },
  {
   "cell_type": "markdown",
   "metadata": {},
   "source": [
    "\\begin{align*}\n",
    "    s_{\\theta^{}_{0}} = \\sqrt{MSE}\\left[\\frac{1}{n}+\\frac{\\bar{x}^2}\n",
    "    {\\sum_{i=1}^{n}(x_{i}^2)-n\\bar{x}^2}\\right]^{1/2}\n",
    "\\end{align*}\n",
    "\\begin{align*}\n",
    "    s_{\\theta^{}_{1}} = \\frac{\\sqrt{MSE}}{[\\sum_{1}^{n}(x_{i}^{2})- n\\bar{x}^2]^{1/2}}\n",
    "\\end{align*}"
   ]
  },
  {
   "cell_type": "code",
   "execution_count": 32,
   "metadata": {},
   "outputs": [
    {
     "name": "stdout",
     "output_type": "stream",
     "text": [
      "S0_0: 0.7277536549293291\n",
      "S0_1: 0.016357997978338524\n"
     ]
    }
   ],
   "source": [
    "thet0 = np.sqrt(0.9)*((1/len(x))+((mean_x**2)/(np.sum(x**2)-len(x)*mean_x**2)))**0.5\n",
    "print(\"S0_0: \" + str(thet0))\n",
    "\n",
    "thet1 = (np.sqrt(0.9))/((np.sum(x**2)-len(x)*mean_x**2))**0.5\n",
    "print(\"S0_1: \" + str(thet1))"
   ]
  },
  {
   "cell_type": "markdown",
   "metadata": {},
   "source": [
    " # Exercise 2: Skin Cancer Mortality vs. State Latitute (US, 1950)"
   ]
  },
  {
   "cell_type": "markdown",
   "metadata": {},
   "source": [
    "Repeat the process from Exercise 1 using the data in file SkinCancerMortalityUSA1950.txt.\n",
    "In particular we are interested whether there is a linear relationship between the mortality and\n",
    "the latitute of a US-state (slide 22/40)."
   ]
  },
  {
   "cell_type": "code",
   "execution_count": null,
   "metadata": {},
   "outputs": [],
   "source": []
  },
  {
   "cell_type": "markdown",
   "metadata": {},
   "source": [
    "# Exercise 3: Standardization"
   ]
  },
  {
   "cell_type": "markdown",
   "metadata": {},
   "source": [
    "Repeat exercise 1 but this time using standarized variables (slide 24/40). You only need to scale\n",
    "the variables before You start the computations!"
   ]
  },
  {
   "cell_type": "markdown",
   "metadata": {},
   "source": [
    "Mean of X: See Ex. 1a: **38.714286**\n",
    "\n",
    "Standard Deviation:\n",
    "\n",
    "\\begin{align*}\n",
    "\\delta^{}_{x} = s_{x} = \\frac{1}{n-1}\\sum_{i=1}^{n}(x_{i} - \\bar{x})^2\n",
    "\\end{align*}"
   ]
  },
  {
   "cell_type": "code",
   "execution_count": 33,
   "metadata": {},
   "outputs": [
    {
     "name": "stdout",
     "output_type": "stream",
     "text": [
      "Standard deviation sx: 8.414516322357459e-30\n"
     ]
    }
   ],
   "source": [
    "sx = (1/(len(x)-1))*(np.sum(x-mean_x)**2)\n",
    "print(\"Standard deviation sx: \" + str(sx))"
   ]
  },
  {
   "cell_type": "markdown",
   "metadata": {},
   "source": [
    "Standardized variable $\\widetilde{x}$\n",
    "\n",
    "\\begin{align*}\n",
    "\\widetilde{x}= \\frac{1}{s_{x}}(x-\\bar{x})\n",
    "\\end{align*}"
   ]
  },
  {
   "cell_type": "code",
   "execution_count": 34,
   "metadata": {},
   "outputs": [
    {
     "name": "stdout",
     "output_type": "stream",
     "text": [
      "Mean of standardized X: 80421421917330.28\n",
      "Standard deviation of standardized X: 3.900800644623203e+28\n"
     ]
    }
   ],
   "source": [
    "stand_x = (1/sx)*(x-mean_x)\n",
    "print(\"Mean of standardized X: \" + str(np.mean(stand_x)))\n",
    "print(\"Standard deviation of standardized X: \" + str((1/(len(stand_x)-1))*(np.sum(stand_x-np.mean(stand_x))**2)))"
   ]
  },
  {
   "cell_type": "markdown",
   "metadata": {},
   "source": [
    "# Exercise 4: Multiple Linear Regression"
   ]
  },
  {
   "cell_type": "markdown",
   "metadata": {},
   "source": [
    "Repeat and try to understand the computations on slide 30/40. In particular You must be able to\n",
    "build matrix **X** and write down the (overdetermined) system of equations on slide 29/40."
   ]
  },
  {
   "cell_type": "code",
   "execution_count": null,
   "metadata": {},
   "outputs": [],
   "source": []
  }
 ],
 "metadata": {
  "author": "ld",
  "kernelspec": {
   "display_name": "Python 3",
   "language": "python",
   "name": "python3"
  },
  "language_info": {
   "codemirror_mode": {
    "name": "ipython",
    "version": 3
   },
   "file_extension": ".py",
   "mimetype": "text/x-python",
   "name": "python",
   "nbconvert_exporter": "python",
   "pygments_lexer": "ipython3",
   "version": "3.7.3rc1"
  },
  "latex_envs": {
   "LaTeX_envs_menu_present": true,
   "autoclose": false,
   "autocomplete": true,
   "bibliofile": "biblio.bib",
   "cite_by": "apalike",
   "current_citInitial": 1,
   "eqLabelWithNumbers": true,
   "eqNumInitial": 1,
   "hotkeys": {
    "equation": "Ctrl-E",
    "itemize": "Ctrl-I"
   },
   "labels_anchors": false,
   "latex_user_defs": false,
   "report_style_numbering": false,
   "user_envs_cfg": false
  }
 },
 "nbformat": 4,
 "nbformat_minor": 2
}
