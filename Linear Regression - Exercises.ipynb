{
 "cells": [
  {
   "cell_type": "markdown",
   "metadata": {},
   "source": [
    "# Exercise 1: Number of disk I/O’s versus processor time"
   ]
  },
  {
   "cell_type": "markdown",
   "metadata": {},
   "source": [
    "**The number of disk I/O’s and processor times of 7 programs were measured as (14, 2), (16, 5), (27, 7), (42, 9), (83, 20), (50, 13), (39, 10).**"
   ]
  },
  {
   "cell_type": "markdown",
   "metadata": {},
   "source": [
    "*1. Compute $\\bar{x}$, $\\bar{y}$ (Slide 9/40); $S_{xy} , S_{xx} , S_{yy}$ (Slide 10/40); $θ_{1} , θ_{0}$ (Slide 9/40)*"
   ]
  },
  {
   "cell_type": "markdown",
   "metadata": {},
   "source": [
    "\\begin{align*}\n",
    "    \\bar{y} = \\frac{1}{n} \\sum_{i=1}^{n} y_{i} &&\n",
    "    \\bar{x} = \\frac{1}{n} \\sum_{i=1}^{n} x_{i} \\\\\n",
    "    S_{xx} = \\sum_{i=1}^{n}(x_{i} - \\bar{x})^2 &&\n",
    "    S_{xy} = \\sum_{i=1}^{n}(x_{i} - \\bar{x})(y_{i} - \\bar{y}) \\\\\n",
    "    \\theta^{}_{0} = \\bar{y} - \\theta^{}_{1}\\bar{x} &&\n",
    "    \\theta^{}_{1} = \\frac{S_{xy}}{S_{xx}}\n",
    "\\end{align*}"
   ]
  },
  {
   "cell_type": "code",
   "execution_count": 5,
   "metadata": {},
   "outputs": [
    {
     "name": "stdout",
     "output_type": "stream",
     "text": [
      "Mean X: 38.714286 \n",
      "Mean Y: 9.428571 \n",
      "Sxx: 3363.428571 \n",
      "Syy: 205.714286 \n",
      "Sxy: 819.857143 \n",
      "Theta0: -0.008282 \n",
      "Theta1: 0.243756\n"
     ]
    }
   ],
   "source": [
    "import matplotlib.pyplot as plt\n",
    "import scipy.stats as st\n",
    "import seaborn as sns\n",
    "import pandas as pd\n",
    "import numpy as np\n",
    "\n",
    "%precision 10\n",
    "%matplotlib inline\n",
    "\n",
    "x=np.array([14, 16, 27, 42, 83, 50, 39])\n",
    "y=np.array([2, 5, 7, 9, 20, 13, 10])\n",
    "\n",
    "mean_x = np.mean(x)\n",
    "mean_y = np.mean(y)\n",
    "\n",
    "Sxx = np.sum((x-mean_x)**2)\n",
    "Syy = np.sum((y-mean_y)**2)\n",
    "Sxy = np.sum((x-mean_x)*(y-mean_y))\n",
    "\n",
    "thet1 = Sxy/Sxx\n",
    "thet0 = mean_y-thet1*mean_x\n",
    "\n",
    "print(\"Mean X: %f \\nMean Y: %f \\nSxx: %f \\nSyy: %f \\nSxy: %f \\nTheta0: %f \\nTheta1: %f\" %(mean_x, mean_y, Sxx, Syy, Sxy, thet0, thet1))\n"
   ]
  },
  {
   "cell_type": "markdown",
   "metadata": {},
   "source": [
    "2. Draw the data points together with the regression line."
   ]
  },
  {
   "cell_type": "code",
   "execution_count": 29,
   "metadata": {},
   "outputs": [
    {
     "data": {
      "text/plain": [
       "[<matplotlib.lines.Line2D at 0x7fcc21cfe4e0>]"
      ]
     },
     "execution_count": 29,
     "metadata": {},
     "output_type": "execute_result"
    },
    {
     "data": {
      "image/png": "[encoded data removed]",
      "text/plain": [
       "<Figure size 432x288 with 1 Axes>"
      ]
     },
     "metadata": {
      "needs_background": "light"
     },
     "output_type": "display_data"
    }
   ],
   "source": [
    "plt.plot(x,y, 'bo')"
   ]
  },
  {
   "cell_type": "markdown",
   "metadata": {},
   "source": [
    "3. Compute the sum of squared errors SSE using the formula on the bottom of Slide 11/40 and compare it with the value obtained with the formula on the top of slide 19/40."
   ]
  },
  {
   "cell_type": "code",
   "execution_count": null,
   "metadata": {},
   "outputs": [],
   "source": []
  },
  {
   "cell_type": "markdown",
   "metadata": {},
   "source": [
    "4. Compute the Pearson correlation coefficient $r$ using the sample variances $s^2_{x}$ and $^2_{y}$ as well as the sample covariance $s_{xy}$ (slide 16/40). Make sure You understand the difference between $S_{xy}$ and $s_{xy}$!"
   ]
  },
  {
   "cell_type": "code",
   "execution_count": null,
   "metadata": {},
   "outputs": [],
   "source": []
  },
  {
   "cell_type": "markdown",
   "metadata": {},
   "source": [
    "5. Again compute SSE using the first term in the formula in the middle of slide 13/40. Compute the sum of squares explained by regression SSR which is the last term in the same formula. Then compute the total sum of squares SST and the coefficient of determination or R-squared $R^2$(slide 14/40) as well as the mean square error MSE (slide 19/40). "
   ]
  },
  {
   "cell_type": "code",
   "execution_count": null,
   "metadata": {},
   "outputs": [],
   "source": []
  },
  {
   "cell_type": "markdown",
   "metadata": {},
   "source": [
    "6. Give a 90 % confidence interval for $θ_{0}$ and $θ_{1}$ (slide 20/40)."
   ]
  },
  {
   "cell_type": "code",
   "execution_count": null,
   "metadata": {},
   "outputs": [],
   "source": []
  },
  {
   "cell_type": "markdown",
   "metadata": {},
   "source": [
    " # Exercise 2: Skin Cancer Mortality vs. State Latitute (US, 1950)"
   ]
  },
  {
   "cell_type": "markdown",
   "metadata": {},
   "source": [
    "Repeat the process from Exercise 1 using the data in file SkinCancerMortalityUSA1950.txt.\n",
    "In particular we are interested whether there is a linear relationship between the mortality and\n",
    "the latitute of a US-state (slide 22/40)."
   ]
  },
  {
   "cell_type": "code",
   "execution_count": 8,
   "metadata": {},
   "outputs": [
    {
     "data": {
      "text/html": [
       "<div>\n",
       "<style scoped>\n",
       "    .dataframe tbody tr th:only-of-type {\n",
       "        vertical-align: middle;\n",
       "    }\n",
       "\n",
       "    .dataframe tbody tr th {\n",
       "        vertical-align: top;\n",
       "    }\n",
       "\n",
       "    .dataframe thead th {\n",
       "        text-align: right;\n",
       "    }\n",
       "</style>\n",
       "<table border=\"1\" class=\"dataframe\">\n",
       "  <thead>\n",
       "    <tr style=\"text-align: right;\">\n",
       "      <th></th>\n",
       "      <th>State</th>\n",
       "      <th>Lat</th>\n",
       "      <th>Mort</th>\n",
       "      <th>Ocean</th>\n",
       "      <th>Long</th>\n",
       "    </tr>\n",
       "  </thead>\n",
       "  <tbody>\n",
       "    <tr>\n",
       "      <th>0</th>\n",
       "      <td>Alabama</td>\n",
       "      <td>33.0</td>\n",
       "      <td>219</td>\n",
       "      <td>1</td>\n",
       "      <td>87.0</td>\n",
       "    </tr>\n",
       "    <tr>\n",
       "      <th>1</th>\n",
       "      <td>Arizona</td>\n",
       "      <td>34.5</td>\n",
       "      <td>160</td>\n",
       "      <td>0</td>\n",
       "      <td>112.0</td>\n",
       "    </tr>\n",
       "    <tr>\n",
       "      <th>2</th>\n",
       "      <td>Arkansas</td>\n",
       "      <td>35.0</td>\n",
       "      <td>170</td>\n",
       "      <td>0</td>\n",
       "      <td>92.5</td>\n",
       "    </tr>\n",
       "    <tr>\n",
       "      <th>3</th>\n",
       "      <td>California</td>\n",
       "      <td>37.5</td>\n",
       "      <td>182</td>\n",
       "      <td>1</td>\n",
       "      <td>119.5</td>\n",
       "    </tr>\n",
       "    <tr>\n",
       "      <th>4</th>\n",
       "      <td>Colorado</td>\n",
       "      <td>39.0</td>\n",
       "      <td>149</td>\n",
       "      <td>0</td>\n",
       "      <td>105.5</td>\n",
       "    </tr>\n",
       "  </tbody>\n",
       "</table>\n",
       "</div>"
      ],
      "text/plain": [
       "        State   Lat  Mort  Ocean   Long\n",
       "0     Alabama  33.0   219      1   87.0\n",
       "1     Arizona  34.5   160      0  112.0\n",
       "2    Arkansas  35.0   170      0   92.5\n",
       "3  California  37.5   182      1  119.5\n",
       "4    Colorado  39.0   149      0  105.5"
      ]
     },
     "execution_count": 8,
     "metadata": {},
     "output_type": "execute_result"
    }
   ],
   "source": [
    "skin_cancer_mortality = pd.read_table(r\"./SkinCancerMortalityUSA1950.txt\", delim_whitespace=True)\n",
    "skin_cancer_mortality.head()"
   ]
  },
  {
   "cell_type": "code",
   "execution_count": 10,
   "metadata": {
    "scrolled": true
   },
   "outputs": [
    {
     "name": "stdout",
     "output_type": "stream",
     "text": [
      "Mean X: 39.532653 \n",
      "Mean Y: 152.877551 \n",
      "Sxx: 1020.487755 \n",
      "Syy: 53637.265306 \n",
      "Sxy: -6100.104082 \n",
      "Theta0: 389.189351 \n",
      "Theta1: -5.977636\n"
     ]
    }
   ],
   "source": [
    "lat = skin_cancer_mortality.Lat\n",
    "mort = skin_cancer_mortality.Mort\n",
    "\n",
    "mean_lat = np.mean(lat)\n",
    "mean_mort = np.mean(mort)\n",
    "\n",
    "Sxx = np.sum((lat-mean_lat)**2)\n",
    "Syy = np.sum((mort-mean_mort)**2)\n",
    "Sxy = np.sum((lat-mean_lat)*(mort-mean_mort))\n",
    "\n",
    "thet1 = Sxy/Sxx\n",
    "thet0 = mean_mort-thet1*mean_lat\n",
    "\n",
    "print(\"Mean X: %f \\nMean Y: %f \\nSxx: %f \\nSyy: %f \\nSxy: %f \\nTheta0: %f \\nTheta1: %f\" %(mean_lat, mean_mort, Sxx, Syy, Sxy, thet0, thet1))"
   ]
  },
  {
   "cell_type": "code",
   "execution_count": 14,
   "metadata": {
    "scrolled": true
   },
   "outputs": [
    {
     "data": {
      "image/png": "[encoded data removed]",
      "text/plain": [
       "<Figure size 432x288 with 1 Axes>"
      ]
     },
     "metadata": {
      "needs_background": "light"
     },
     "output_type": "display_data"
    }
   ],
   "source": [
    "plt.plot(lat,mort, 'ro')\n",
    "plt.plot(lat,thet0+thet1*lat,c=\"b\")\n",
    "plt.show()"
   ]
  },
  {
   "cell_type": "code",
   "execution_count": 23,
   "metadata": {},
   "outputs": [
    {
     "name": "stdout",
     "output_type": "stream",
     "text": [
      "r^2: -0.8245177937800734\n"
     ]
    }
   ],
   "source": [
    "r_squared = (np.sum((lat-mean_lat)*(mort-mean_mort)))/(np.sqrt(np.sum((lat-mean_lat)**2))*np.sqrt(np.sum((mort-mean_mort)**2)))\n",
    "print(\"r^2: \" + str(r_squared))"
   ]
  },
  {
   "cell_type": "markdown",
   "metadata": {},
   "source": [
    "# Exercise 3: Standardization"
   ]
  },
  {
   "cell_type": "markdown",
   "metadata": {},
   "source": [
    "Repeat exercise 1 but this time using standarized variables (slide 24/40). You only need to scale\n",
    "the variables before You start the computations!"
   ]
  },
  {
   "cell_type": "code",
   "execution_count": null,
   "metadata": {},
   "outputs": [],
   "source": []
  },
  {
   "cell_type": "markdown",
   "metadata": {},
   "source": [
    "# Exercise 4: Multiple Linear Regression"
   ]
  },
  {
   "cell_type": "markdown",
   "metadata": {},
   "source": [
    "Repeat and try to understand the computations on slide 30/40. In particular You must be able to\n",
    "build matrix **X** and write down the (overdetermined) system of equations on slide 29/40."
   ]
  },
  {
   "cell_type": "code",
   "execution_count": null,
   "metadata": {},
   "outputs": [],
   "source": []
  }
 ],
 "metadata": {
  "kernelspec": {
   "display_name": "Python 3",
   "language": "python",
   "name": "python3"
  },
  "language_info": {
   "codemirror_mode": {
    "name": "ipython",
    "version": 3
   },
   "file_extension": ".py",
   "mimetype": "text/x-python",
   "name": "python",
   "nbconvert_exporter": "python",
   "pygments_lexer": "ipython3",
   "version": "3.7.0"
  },
  "latex_envs": {
   "LaTeX_envs_menu_present": true,
   "autoclose": false,
   "autocomplete": true,
   "bibliofile": "biblio.bib",
   "cite_by": "apalike",
   "current_citInitial": 1,
   "eqLabelWithNumbers": true,
   "eqNumInitial": 1,
   "hotkeys": {
    "equation": "Ctrl-E",
    "itemize": "Ctrl-I"
   },
   "labels_anchors": false,
   "latex_user_defs": false,
   "report_style_numbering": false,
   "user_envs_cfg": false
  }
 },
 "nbformat": 4,
 "nbformat_minor": 2
}
