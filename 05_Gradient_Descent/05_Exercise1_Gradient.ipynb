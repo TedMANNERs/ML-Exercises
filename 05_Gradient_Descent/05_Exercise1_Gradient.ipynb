{
 "cells": [
  {
   "cell_type": "markdown",
   "metadata": {},
   "source": [
    "# Gradient\n",
    "\n",
    "The gradient $\\nabla f$ of the scalar function $f : \\textbf{R}^2 → \\mathbb{R},(x,y) \\rightarrow z = f(x,y)$ is a vector, whose components are the partial derivatives of\n",
    "\n",
    "\\begin{equation}\n",
    "    \\nabla f(x,y) = \n",
    "        \\begin{bmatrix}\n",
    "            \\frac{\\delta f}{\\delta x} (x,y) \\\\\n",
    "            \\frac{\\delta f}{\\delta y} (x,y) \\\\\n",
    "        \\end{bmatrix}\n",
    "        = \n",
    "        \\begin{bmatrix}\n",
    "            f_x (x,y) \\\\\n",
    "            f_y (x,y) \\\\\n",
    "        \\end{bmatrix}\n",
    "\\end{equation}\n",
    "\n",
    "The partial derivatives of a function with respect to one variable, say x, can be computed as follows. Think of the function to only depend on x by assuming, the other variables (here y) is only a constant: then compute the ordinary derivative, i.e.\n",
    "\\begin{equation}\n",
    "    \\frac{\\delta f}{\\delta x} = \\left. \\frac{df}{dx} \\right|_{y=const.}\n",
    "    \\text{ and }\n",
    "    \\frac{\\delta f}{\\delta y} = \\left. \\frac{df}{dy} \\right|_{x=const.}\n",
    "\\end{equation}\n",
    "\n",
    "## Assignment\n",
    "Compute the gradient of the following functions\n",
    "1. $f(x,y)=x^2+y^2-2xy$ in $(0,0)$ and $(1,1)$.\n",
    "2. $g(x,y)=\\sqrt{x^2-y^2}$ in $(1,1)$ and $(-1,1)$.\n",
    "3. $h(x,y,z)=x^2+y^2+z^2-4$ in $(1,1,1)$.\n",
    "4. $k(\\theta _0, \\theta _1) = (y_i - \\theta _0 -\\theta _1\\cdot x_i)^2$ where $x_i$ and $y_i$ are some constants.\n",
    "5. $J(\\theta _0, \\theta _1) = 1/n \\sum_{i=1}^n {(y_i -\\theta _0 -\\theta _1)\\cdot x_i)^2}$ where again $x_i$ and $y_i (i=1,2,...,n)$ are some constants.\n",
    "\n",
    "First compute the gradient for an arbitrary point in the domain of f and then in the required points."
   ]
  },
  {
   "cell_type": "code",
   "execution_count": null,
   "metadata": {},
   "outputs": [],
   "source": []
  }
 ],
 "metadata": {
  "kernelspec": {
   "display_name": "Python 3",
   "language": "python",
   "name": "python3"
  },
  "language_info": {
   "codemirror_mode": {
    "name": "ipython",
    "version": 3
   },
   "file_extension": ".py",
   "mimetype": "text/x-python",
   "name": "python",
   "nbconvert_exporter": "python",
   "pygments_lexer": "ipython3",
   "version": "3.7.0"
  }
 },
 "nbformat": 4,
 "nbformat_minor": 2
}
