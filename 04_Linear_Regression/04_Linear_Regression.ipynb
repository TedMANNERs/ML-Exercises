{
 "cells": [
  {
   "cell_type": "markdown",
   "metadata": {},
   "source": [
    "# Exercise 1: Number of disk I/O’s versus processor time"
   ]
  },
  {
   "cell_type": "markdown",
   "metadata": {},
   "source": [
    "**The number of disk I/O’s and processor times of 7 programs were measured as (14, 2), (16, 5), (27, 7), (42, 9), (83, 20), (50, 13), (39, 10).**"
   ]
  },
  {
   "cell_type": "markdown",
   "metadata": {},
   "source": [
    "*1. Compute $\\bar{x}$, $\\bar{y}$ (Slide 9/40); $S_{xy} , S_{xx} , S_{yy}$ (Slide 10/40); $θ_{1} , θ_{0}$ (Slide 9/40)*"
   ]
  },
  {
   "cell_type": "markdown",
   "metadata": {},
   "source": [
    "\\begin{align*}\n",
    "    \\bar{y} = \\frac{1}{n} \\sum_{i=1}^{n} y_{i} &&\n",
    "    \\bar{x} = \\frac{1}{n} \\sum_{i=1}^{n} x_{i} \\\\\n",
    "    S_{xx} = \\sum_{i=1}^{n}(x_{i} - \\bar{x})^2 &&\n",
    "    S_{xy} = \\sum_{i=1}^{n}(x_{i} - \\bar{x})(y_{i} - \\bar{y}) \\\\\n",
    "    \\theta^{}_{0} = \\bar{y} - \\theta^{}_{1}\\bar{x} &&\n",
    "    \\theta^{}_{1} = \\frac{S_{xy}}{S_{xx}}\n",
    "\\end{align*}"
   ]
  },
  {
   "cell_type": "code",
   "execution_count": 58,
   "metadata": {},
   "outputs": [
    {
     "name": "stdout",
     "output_type": "stream",
     "text": [
      "Mean X: 38.714286 \n",
      "Mean Y: 9.428571 \n",
      "Sxx: 3363.428571 \n",
      "Syy: 205.714286 \n",
      "Sxy: 819.857143 \n",
      "Theta0: -0.008282 \n",
      "Theta1: 0.243756\n"
     ]
    }
   ],
   "source": [
    "import matplotlib.pyplot as plt\n",
    "import scipy.stats as st\n",
    "import seaborn as sns\n",
    "import pandas as pd\n",
    "import numpy as np\n",
    "\n",
    "%precision 10\n",
    "%matplotlib inline\n",
    "\n",
    "x=np.array([14, 16, 27, 42, 83, 50, 39])\n",
    "y=np.array([2, 5, 7, 9, 20, 13, 10])\n",
    "\n",
    "mean_x = np.mean(x)\n",
    "mean_y = np.mean(y)\n",
    "\n",
    "Sxx = np.sum((x-mean_x)**2)\n",
    "Syy = np.sum((y-mean_y)**2)\n",
    "Sxy = np.sum((x-mean_x)*(y-mean_y))\n",
    "\n",
    "thet1 = Sxy/Sxx\n",
    "thet0 = mean_y-thet1*mean_x\n",
    "\n",
    "print(\"Mean X: %f \\nMean Y: %f \\nSxx: %f \\nSyy: %f \\nSxy: %f \\nTheta0: %f \\nTheta1: %f\" %(mean_x, mean_y, Sxx, Syy, Sxy, thet0, thet1))\n"
   ]
  },
  {
   "cell_type": "markdown",
   "metadata": {},
   "source": [
    "*2. Draw the data points together with the regression line.*"
   ]
  },
  {
   "cell_type": "code",
   "execution_count": 59,
   "metadata": {},
   "outputs": [
    {
     "data": {
      "image/png": "[encoded data removed]",
      "text/plain": [
       "<Figure size 432x288 with 1 Axes>"
      ]
     },
     "metadata": {
      "needs_background": "light"
     },
     "output_type": "display_data"
    }
   ],
   "source": [
    "plt.plot(x,y, 'bo')\n",
    "plt.plot(x,thet0+thet1*x, 'r')\n",
    "plt.show()"
   ]
  },
  {
   "cell_type": "markdown",
   "metadata": {},
   "source": [
    "*3. Compute the sum of squared errors SSE using the formula on the bottom of Slide 11/40 and compare it with the value obtained with the formula on the top of slide 19/40.*"
   ]
  },
  {
   "cell_type": "markdown",
   "metadata": {},
   "source": [
    "**Slide 11**\n",
    "\n",
    "\\begin{align*}\n",
    "    SSE = \\sum_{i=1}^{n}(e_{i})^2 = \\sum_{i=1}^{n}[(y_{i}-\\bar{y})-\\theta^{}_{1}(x_{i}-\\bar{x})]^2\n",
    "\\end{align*}"
   ]
  },
  {
   "cell_type": "code",
   "execution_count": 60,
   "metadata": {
    "scrolled": true
   },
   "outputs": [
    {
     "name": "stdout",
     "output_type": "stream",
     "text": [
      "SSE: 5.868883792048932\n"
     ]
    }
   ],
   "source": [
    "SSe = np.sum(((y-mean_y)-thet1*(x-mean_x))**2)\n",
    "print(\"SSE: \" + str(SSe))"
   ]
  },
  {
   "cell_type": "markdown",
   "metadata": {},
   "source": [
    "**Slide 19**\n",
    "\\begin{align*}\n",
    "    SSE = \\sum_{i=1}^{n}(y_{i})^2-\\theta^{}_{0}\\sum_{i=1}^{n}(y_{i})-\\theta^{}_{1}\\sum_{i=1}^{n}(x_{i}y_{i})\n",
    "\\end{align*}"
   ]
  },
  {
   "cell_type": "code",
   "execution_count": 61,
   "metadata": {},
   "outputs": [
    {
     "name": "stdout",
     "output_type": "stream",
     "text": [
      "SSE: 5.868883792048905\n"
     ]
    }
   ],
   "source": [
    "Sse = np.sum(y**2)-thet0*np.sum(y)-thet1*np.sum(x*y)\n",
    "print(\"SSE: \" + str(Sse))"
   ]
  },
  {
   "cell_type": "markdown",
   "metadata": {},
   "source": [
    "*4. Compute the Pearson correlation coefficient $r$ using the sample variances $s^2_{x}$ and $s^2_{y}$ as well as the sample covariance $s_{xy}$ (slide 16/40). Make sure You understand the difference between $S_{xy}$ and $s_{xy}$!*"
   ]
  },
  {
   "cell_type": "markdown",
   "metadata": {},
   "source": [
    "\\begin{align*}\n",
    "    r = \\frac{\\sum_{i=1}^{n}(x_{i}-\\bar{x})(y_{i}-\\bar{y})}{\\sqrt{\\sum_{i=1}^{n}(x_{i}-\\bar{x})^2}\\sqrt{\\sum_{i=1}^{n}(y_{i}-\\bar{y})^2}}\n",
    "\\end{align*}"
   ]
  },
  {
   "cell_type": "code",
   "execution_count": 62,
   "metadata": {},
   "outputs": [
    {
     "name": "stdout",
     "output_type": "stream",
     "text": [
      "r: 0.9856321341091975\n"
     ]
    }
   ],
   "source": [
    "r = (np.sum((x-mean_x)*(y-mean_y)))/(np.sqrt((np.sum((x-mean_x)**2)))*np.sqrt((np.sum((y-mean_y)**2))))\n",
    "print(\"r: \" + str(r))"
   ]
  },
  {
   "cell_type": "markdown",
   "metadata": {},
   "source": [
    "$S_{xy}$ = Summed up deviation from the mean of all points (x AND y) \n",
    "\n",
    "$s_{xy}$ = Area, in which all points reside in"
   ]
  },
  {
   "cell_type": "markdown",
   "metadata": {},
   "source": [
    "*5. Again compute SSE using the first term in the formula in the middle of slide 13/40. Compute the sum of squares explained by regression SSR which is the last term in the same formula. Then compute the total sum of squares SST and the coefficient of determination or R-squared $R^2$(slide 14/40) as well as the mean square error MSE (slide 19/40).*"
   ]
  },
  {
   "cell_type": "markdown",
   "metadata": {},
   "source": [
    "\\begin{align*}\n",
    "    SSE = \\sum_{i=1}^{n}(y_{i}-\\hat{y}_{i})^2\n",
    "\\end{align*}\n",
    "\\begin{align*}\n",
    "    SSR = \\sum_{i}^{n}(\\hat{y}_{i}-\\bar{y})^2\n",
    "\\end{align*}\n",
    "\\begin{align*}\n",
    "    SST = SSE+SSR\n",
    "\\end{align*}\n",
    "\n",
    "\n",
    "\\begin{align*}\n",
    "    R^2 = \\frac{SSR}{SST}\n",
    "\\end{align*}"
   ]
  },
  {
   "cell_type": "code",
   "execution_count": 63,
   "metadata": {},
   "outputs": [
    {
     "name": "stdout",
     "output_type": "stream",
     "text": [
      "SSE: 5.868883792048929\n",
      "SSR: 199.84540192223682\n",
      "SST: 205.71428571428575\n",
      "R^2: 0.971470703788651\n"
     ]
    }
   ],
   "source": [
    "hat_y = thet0+thet1*x\n",
    "\n",
    "SSE=np.sum(((y-hat_y))**2)\n",
    "print(\"SSE: \" + str(SSE))\n",
    "\n",
    "SSR=np.sum((hat_y-mean_y)**2)\n",
    "print(\"SSR: \" + str(SSR))\n",
    "\n",
    "SST = SSE + SSR\n",
    "print(\"SST: \" + str(SST))\n",
    "\n",
    "R_sq = SSR/SST\n",
    "print(\"R^2: \" + str(R_sq))"
   ]
  },
  {
   "cell_type": "markdown",
   "metadata": {},
   "source": [
    "*6. Give a 90 % confidence interval for $θ_{0}$ and $θ_{1}$ (slide 20/40).*"
   ]
  },
  {
   "attachments": {},
   "cell_type": "markdown",
   "metadata": {},
   "source": [
    "\\begin{align*}\n",
    "    MSE = \\frac{SSE}{n-2} = \\frac{1}{n-2}\\sum_{i=1}^{n}(y_{i}-\\hat{y}^{}_{i})^2\n",
    "\\end{align*}\n",
    "\n",
    "\\begin{align*}\n",
    "    s_{\\theta_{0}} = \\sqrt{MSE} \\cdot \\sqrt{\\frac{1}{n} + \\frac{\\bar{x}^2}{\\sum_{i=1}^{n}{(x_i-\\bar{x})^2}}}\n",
    "\\end{align*}\n",
    "\n",
    "\\begin{align*}\n",
    "    s_{\\theta_{1}} = \\sqrt{MSE}\\cdot \\sqrt{\\frac{1}{\\sum_{i=1}^{n}{(x_i-\\bar{x})^2}}}\n",
    "\\end{align*}"
   ]
  },
  {
   "cell_type": "markdown",
   "metadata": {},
   "source": [
    "![critical Borders of t-interval](CriticalBordersTInterval.png)"
   ]
  },
  {
   "cell_type": "code",
   "execution_count": 64,
   "metadata": {},
   "outputs": [
    {
     "name": "stdout",
     "output_type": "stream",
     "text": [
      "MSE: 1.1737767584097858\n",
      "theta_0: -0.008282364933741349\n",
      "S0_0: 0.8311049969529883\n",
      "theta_1: 0.24375637104994904\n",
      "S0_1: 0.018681065725824817\n",
      "Interval theta0: [-3.582033851831591 ; 3.5654691219641084]\n",
      "Interval theta1: [0.16342778842890232 ; 0.32408495367099577]\n"
     ]
    }
   ],
   "source": [
    "MSE = SSE/(len(x)-2)\n",
    "print(\"MSE: \" + str(MSE))\n",
    "\n",
    "Sthet0 = np.sqrt(MSE)*np.sqrt((1/len(x))+(mean_x**2)/(np.sum((x-mean_x)**2)))\n",
    "print(\"theta_0: \" + str(thet0))\n",
    "print(\"S0_0: \" + str(Sthet0))\n",
    "\n",
    "Sthet1 = (np.sqrt(MSE))*np.sqrt(1/(np.sum((x-mean_x)**2)))\n",
    "print(\"theta_1: \" + str(thet1))\n",
    "print(\"S0_1: \" + str(Sthet1))\n",
    "\n",
    "print(\"Interval theta0: [\" + str(thet0 - (4.3*Sthet0)) + \" ; \" + str(thet0 + (4.3*Sthet0)) + \"]\")\n",
    "\n",
    "print(\"Interval theta1: [\" + str(thet1 - (4.3*Sthet1)) + \" ; \" + str(thet1 + (4.3*Sthet1)) + \"]\")"
   ]
  },
  {
   "cell_type": "markdown",
   "metadata": {},
   "source": [
    " # Exercise 2: Skin Cancer Mortality vs. State Latitute (US, 1950)"
   ]
  },
  {
   "cell_type": "markdown",
   "metadata": {},
   "source": [
    "Repeat the process from Exercise 1 using the data in file SkinCancerMortalityUSA1950.txt.\n",
    "In particular we are interested whether there is a linear relationship between the mortality and\n",
    "the latitute of a US-state (slide 22/40)."
   ]
  },
  {
   "cell_type": "code",
   "execution_count": 65,
   "metadata": {},
   "outputs": [
    {
     "data": {
      "text/html": [
       "<div>\n",
       "<style scoped>\n",
       "    .dataframe tbody tr th:only-of-type {\n",
       "        vertical-align: middle;\n",
       "    }\n",
       "\n",
       "    .dataframe tbody tr th {\n",
       "        vertical-align: top;\n",
       "    }\n",
       "\n",
       "    .dataframe thead th {\n",
       "        text-align: right;\n",
       "    }\n",
       "</style>\n",
       "<table border=\"1\" class=\"dataframe\">\n",
       "  <thead>\n",
       "    <tr style=\"text-align: right;\">\n",
       "      <th></th>\n",
       "      <th>State</th>\n",
       "      <th>Lat</th>\n",
       "      <th>Mort</th>\n",
       "      <th>Ocean</th>\n",
       "      <th>Long</th>\n",
       "    </tr>\n",
       "  </thead>\n",
       "  <tbody>\n",
       "    <tr>\n",
       "      <th>0</th>\n",
       "      <td>Alabama</td>\n",
       "      <td>33.0</td>\n",
       "      <td>219</td>\n",
       "      <td>1</td>\n",
       "      <td>87.0</td>\n",
       "    </tr>\n",
       "    <tr>\n",
       "      <th>1</th>\n",
       "      <td>Arizona</td>\n",
       "      <td>34.5</td>\n",
       "      <td>160</td>\n",
       "      <td>0</td>\n",
       "      <td>112.0</td>\n",
       "    </tr>\n",
       "    <tr>\n",
       "      <th>2</th>\n",
       "      <td>Arkansas</td>\n",
       "      <td>35.0</td>\n",
       "      <td>170</td>\n",
       "      <td>0</td>\n",
       "      <td>92.5</td>\n",
       "    </tr>\n",
       "    <tr>\n",
       "      <th>3</th>\n",
       "      <td>California</td>\n",
       "      <td>37.5</td>\n",
       "      <td>182</td>\n",
       "      <td>1</td>\n",
       "      <td>119.5</td>\n",
       "    </tr>\n",
       "    <tr>\n",
       "      <th>4</th>\n",
       "      <td>Colorado</td>\n",
       "      <td>39.0</td>\n",
       "      <td>149</td>\n",
       "      <td>0</td>\n",
       "      <td>105.5</td>\n",
       "    </tr>\n",
       "  </tbody>\n",
       "</table>\n",
       "</div>"
      ],
      "text/plain": [
       "        State   Lat  Mort  Ocean   Long\n",
       "0     Alabama  33.0   219      1   87.0\n",
       "1     Arizona  34.5   160      0  112.0\n",
       "2    Arkansas  35.0   170      0   92.5\n",
       "3  California  37.5   182      1  119.5\n",
       "4    Colorado  39.0   149      0  105.5"
      ]
     },
     "execution_count": 65,
     "metadata": {},
     "output_type": "execute_result"
    }
   ],
   "source": [
    "skin_cancer_mortality = pd.read_table(r\"./SkinCancerMortalityUSA1950.txt\", delim_whitespace=True)\n",
    "skin_cancer_mortality.head()"
   ]
  },
  {
   "cell_type": "code",
   "execution_count": 66,
   "metadata": {
    "scrolled": true
   },
   "outputs": [
    {
     "name": "stdout",
     "output_type": "stream",
     "text": [
      "Mean X: 39.532653 \n",
      "Mean Y: 152.877551 \n",
      "Sxx: 1020.487755 \n",
      "Syy: 53637.265306 \n",
      "Sxy: -6100.104082 \n",
      "Theta0: 389.189351 \n",
      "Theta1: -5.977636\n"
     ]
    }
   ],
   "source": [
    "lat = skin_cancer_mortality.Lat\n",
    "mort = skin_cancer_mortality.Mort\n",
    "\n",
    "mean_lat = np.mean(lat)\n",
    "mean_mort = np.mean(mort)\n",
    "\n",
    "Sxx = np.sum((lat-mean_lat)**2)\n",
    "Syy = np.sum((mort-mean_mort)**2)\n",
    "Sxy = np.sum((lat-mean_lat)*(mort-mean_mort))\n",
    "\n",
    "thet1 = Sxy/Sxx\n",
    "thet0 = mean_mort-thet1*mean_lat\n",
    "\n",
    "print(\"Mean X: %f \\nMean Y: %f \\nSxx: %f \\nSyy: %f \\nSxy: %f \\nTheta0: %f \\nTheta1: %f\" %(mean_lat, mean_mort, Sxx, Syy, Sxy, thet0, thet1))"
   ]
  },
  {
   "cell_type": "code",
   "execution_count": 67,
   "metadata": {
    "scrolled": true
   },
   "outputs": [
    {
     "data": {
      "image/png": "[encoded data removed]",
      "text/plain": [
       "<Figure size 432x288 with 1 Axes>"
      ]
     },
     "metadata": {
      "needs_background": "light"
     },
     "output_type": "display_data"
    }
   ],
   "source": [
    "plt.plot(lat,mort, 'ro')\n",
    "plt.plot(lat,thet0+thet1*lat,c=\"b\")\n",
    "plt.show()"
   ]
  },
  {
   "cell_type": "code",
   "execution_count": 68,
   "metadata": {},
   "outputs": [
    {
     "name": "stdout",
     "output_type": "stream",
     "text": [
      "r^2: -0.8245177937800734\n"
     ]
    }
   ],
   "source": [
    "r_squared = (np.sum((lat-mean_lat)*(mort-mean_mort)))/(np.sqrt(np.sum((lat-mean_lat)**2))*np.sqrt(np.sum((mort-mean_mort)**2)))\n",
    "print(\"r^2: \" + str(r_squared))"
   ]
  },
  {
   "cell_type": "markdown",
   "metadata": {},
   "source": [
    "# Exercise 3: Standardization"
   ]
  },
  {
   "cell_type": "markdown",
   "metadata": {},
   "source": [
    "*Repeat exercise 1 but this time using standarized variables (slide 24/40). You only need to scale\n",
    "the variables before You start the computations!*"
   ]
  },
  {
   "cell_type": "markdown",
   "metadata": {},
   "source": [
    "Mean of X: See Ex. 1a: **38.714286**\n",
    "\n",
    "Standard Deviation:\n",
    "\n",
    "\\begin{align*}\n",
    "\\delta^{}_{x} = s_{x} = \\sqrt{\\frac{1}{n-1}\\sum_{i=1}^{n}(x_{i} - \\bar{x})^2}\n",
    "\\end{align*}"
   ]
  },
  {
   "cell_type": "code",
   "execution_count": 69,
   "metadata": {},
   "outputs": [
    {
     "name": "stdout",
     "output_type": "stream",
     "text": [
      "Standard deviation sx: 23.676389686171085\n"
     ]
    }
   ],
   "source": [
    "x=np.array([14, 16, 27, 42, 83, 50, 39])\n",
    "y=np.array([2, 5, 7, 9, 20, 13, 10])\n",
    "\n",
    "mean_x = np.mean(x)\n",
    "\n",
    "err_x = x-mean_x\n",
    "dof_x = (1/(len(x)-1))\n",
    "sx = np.sqrt(dof_x*np.sum(err_x**2))\n",
    "print(\"Standard deviation sx: \" + str(sx))"
   ]
  },
  {
   "cell_type": "markdown",
   "metadata": {},
   "source": [
    "Standardized variable $\\widetilde{x}$\n",
    "\n",
    "\\begin{align*}\n",
    "\\widetilde{x}= \\frac{1}{s_{x}}(x-\\bar{x})\n",
    "\\end{align*}"
   ]
  },
  {
   "cell_type": "code",
   "execution_count": 70,
   "metadata": {},
   "outputs": [
    {
     "name": "stdout",
     "output_type": "stream",
     "text": [
      "Standardized X: [-1.0438367522 -0.9593644139 -0.4947665531  0.1387759844  1.8704589202\n",
      "  0.4766653377  0.0120674769]\n",
      "Mean of standardized X: -7.434529182757744e-19\n",
      "Standard deviation of standardized X: 1.0\n"
     ]
    }
   ],
   "source": [
    "stand_x = (1/sx)*(x-mean_x)\n",
    "print(\"Standardized X: \" + str(stand_x))\n",
    "print(\"Mean of standardized X: \" + str(np.mean(stand_x)))\n",
    "print(\"Standard deviation of standardized X: \" + str(np.sqrt((1/(len(stand_x)-1))*(np.sum((stand_x-np.mean(stand_x))**2)))))"
   ]
  },
  {
   "cell_type": "markdown",
   "metadata": {},
   "source": [
    "----------------------------"
   ]
  },
  {
   "cell_type": "markdown",
   "metadata": {},
   "source": [
    "*1. Compute $\\bar{x}$, $\\bar{y}$ (Slide 9/40); $S_{xy} , S_{xx} , S_{yy}$ (Slide 10/40); $θ_{1} , θ_{0}$ (Slide 9/40)*"
   ]
  },
  {
   "cell_type": "markdown",
   "metadata": {},
   "source": [
    "\\begin{align*}\n",
    "    \\bar{y} = \\frac{1}{n} \\sum_{i=1}^{n} y_{i} &&\n",
    "    \\bar{x} = \\frac{1}{n} \\sum_{i=1}^{n} x_{i} \\\\\n",
    "    S_{xx} = \\sum_{i=1}^{n}(x_{i} - \\bar{x})^2 &&\n",
    "    S_{xy} = \\sum_{i=1}^{n}(x_{i} - \\bar{x})(y_{i} - \\bar{y}) \\\\\n",
    "    \\theta^{}_{0} = \\bar{y} - \\theta^{}_{1}\\bar{x} &&\n",
    "    \\theta^{}_{1} = \\frac{S_{xy}}{S_{xx}}\n",
    "\\end{align*}"
   ]
  },
  {
   "cell_type": "code",
   "execution_count": 71,
   "metadata": {},
   "outputs": [
    {
     "name": "stdout",
     "output_type": "stream",
     "text": [
      "Mean X: -0.000000 \n",
      "Mean Y: 9.428571 \n",
      "Sxx: 6.000000 \n",
      "Syy: 205.714286 \n",
      "Sxy: 34.627625 \n",
      "Theta0: 9.428571 \n",
      "Theta1: 5.771271\n"
     ]
    }
   ],
   "source": [
    "import numpy as np\n",
    "from matplotlib import pyplot as plt\n",
    "\n",
    "#import pandas as pd\n",
    "\n",
    "%precision 10\n",
    "%matplotlib inline\n",
    "\n",
    "x = stand_x\n",
    "\n",
    "mean_x = np.mean(x)\n",
    "mean_y = np.mean(y)\n",
    "\n",
    "Sxx = np.sum((x-mean_x)**2)\n",
    "Syy = np.sum((y-mean_y)**2)\n",
    "Sxy = np.sum((x-mean_x)*(y-mean_y))\n",
    "\n",
    "thet1 = Sxy/Sxx\n",
    "thet0 = mean_y-thet1*mean_x\n",
    "\n",
    "print(\"Mean X: %f \\nMean Y: %f \\nSxx: %f \\nSyy: %f \\nSxy: %f \\nTheta0: %f \\nTheta1: %f\" %(mean_x, mean_y, Sxx, Syy, Sxy, thet0, thet1))\n"
   ]
  },
  {
   "cell_type": "markdown",
   "metadata": {},
   "source": [
    "*2. Draw the data points together with the regression line.*"
   ]
  },
  {
   "cell_type": "code",
   "execution_count": 72,
   "metadata": {},
   "outputs": [
    {
     "data": {
      "image/png": "[encoded data removed]",
      "text/plain": [
       "<Figure size 432x288 with 1 Axes>"
      ]
     },
     "metadata": {
      "needs_background": "light"
     },
     "output_type": "display_data"
    }
   ],
   "source": [
    "plt.plot(x,y, 'bo')\n",
    "plt.plot(x,thet0+thet1*x, 'r')\n",
    "plt.show()"
   ]
  },
  {
   "cell_type": "markdown",
   "metadata": {},
   "source": [
    "*3. Compute the sum of squared errors SSE using the formula on the bottom of Slide 11/40 and compare it with the value obtained with the formula on the top of slide 19/40.*"
   ]
  },
  {
   "cell_type": "markdown",
   "metadata": {},
   "source": [
    "**Slide 11**\n",
    "\n",
    "\\begin{align*}\n",
    "    SSE = \\sum_{i=1}^{n}(e_{i})^2 = \\sum_{i=1}^{n}[(y_{i}-\\bar{y})-\\theta^{}_{1}(x_{i}-\\bar{x})]^2\n",
    "\\end{align*}"
   ]
  },
  {
   "cell_type": "code",
   "execution_count": 73,
   "metadata": {
    "scrolled": true
   },
   "outputs": [
    {
     "name": "stdout",
     "output_type": "stream",
     "text": [
      "SSE: 5.868883792048931\n"
     ]
    }
   ],
   "source": [
    "SSe = np.sum(((y-mean_y)-thet1*(x-mean_x))**2)\n",
    "print(\"SSE: \" + str(SSe))"
   ]
  },
  {
   "cell_type": "markdown",
   "metadata": {},
   "source": [
    "**Slide 19**\n",
    "\\begin{align*}\n",
    "    SSE = \\sum_{i=1}^{n}(y_{i})^2-\\theta^{}_{0}\\sum_{i=1}^{n}(y_{i})-\\theta^{}_{1}\\sum_{i=1}^{n}(x_{i}y_{i})\n",
    "\\end{align*}"
   ]
  },
  {
   "cell_type": "code",
   "execution_count": 74,
   "metadata": {},
   "outputs": [
    {
     "name": "stdout",
     "output_type": "stream",
     "text": [
      "SSE: 5.868883792048848\n"
     ]
    }
   ],
   "source": [
    "Sse = np.sum(y**2)-thet0*np.sum(y)-thet1*np.sum(x*y)\n",
    "print(\"SSE: \" + str(Sse))"
   ]
  },
  {
   "cell_type": "markdown",
   "metadata": {},
   "source": [
    "*4. Compute the Pearson correlation coefficient $r$ using the sample variances $s^2_{x}$ and $s^2_{y}$ as well as the sample covariance $s_{xy}$ (slide 16/40). Make sure You understand the difference between $S_{xy}$ and $s_{xy}$!*"
   ]
  },
  {
   "cell_type": "markdown",
   "metadata": {},
   "source": [
    "\\begin{align*}\n",
    "    r = \\frac{\\sum_{i=1}^{n}(x_{i}-\\bar{x})(y_{i}-\\bar{y})}{\\sqrt{\\sum_{i=1}^{n}(x_{i}-\\bar{x})^2}\\sqrt{\\sum_{i=1}^{n}(y_{i}-\\bar{y})^2}}\n",
    "\\end{align*}"
   ]
  },
  {
   "cell_type": "code",
   "execution_count": 75,
   "metadata": {},
   "outputs": [
    {
     "name": "stdout",
     "output_type": "stream",
     "text": [
      "r: 0.9856321341091975\n"
     ]
    }
   ],
   "source": [
    "r = (np.sum((x-mean_x)*(y-mean_y)))/(np.sqrt((np.sum((x-mean_x)**2)))*np.sqrt((np.sum((y-mean_y)**2))))\n",
    "print(\"r: \" + str(r))"
   ]
  },
  {
   "cell_type": "markdown",
   "metadata": {},
   "source": [
    "$S_{xy}$ = Summed up deviation from the mean of all points (x AND y) \n",
    "\n",
    "$s_{xy}$ = Area, in which all points reside in"
   ]
  },
  {
   "cell_type": "markdown",
   "metadata": {},
   "source": [
    "*5. Again compute SSE using the first term in the formula in the middle of slide 13/40. Compute the sum of squares explained by regression SSR which is the last term in the same formula. Then compute the total sum of squares SST and the coefficient of determination or R-squared $R^2$(slide 14/40) as well as the mean square error MSE (slide 19/40).*"
   ]
  },
  {
   "cell_type": "markdown",
   "metadata": {},
   "source": [
    "\\begin{align*}\n",
    "    SSE = \\sum_{i=1}^{n}(y_{i}-\\hat{y}_{i})^2\n",
    "\\end{align*}\n",
    "\\begin{align*}\n",
    "    SSR = \\sum_{i}^{n}(\\hat{y}_{i}-\\bar{y})^2\n",
    "\\end{align*}\n",
    "\\begin{align*}\n",
    "    SST = SSE+SSR\n",
    "\\end{align*}\n",
    "\n",
    "\n",
    "\\begin{align*}\n",
    "    R^2 = \\frac{SSR}{SST}\n",
    "\\end{align*}"
   ]
  },
  {
   "cell_type": "code",
   "execution_count": 76,
   "metadata": {},
   "outputs": [
    {
     "name": "stdout",
     "output_type": "stream",
     "text": [
      "SSE: 5.868883792048932\n",
      "SSR: 199.84540192223685\n",
      "SST: 205.71428571428578\n",
      "R^2: 0.9714707037886511\n"
     ]
    }
   ],
   "source": [
    "hat_y = thet0+thet1*x\n",
    "\n",
    "SSE=np.sum(((y-hat_y))**2)\n",
    "print(\"SSE: \" + str(SSE))\n",
    "\n",
    "SSR=np.sum((hat_y-mean_y)**2)\n",
    "print(\"SSR: \" + str(SSR))\n",
    "\n",
    "SST = SSE + SSR\n",
    "print(\"SST: \" + str(SST))\n",
    "\n",
    "R_sq = SSR/SST\n",
    "print(\"R^2: \" + str(R_sq))"
   ]
  },
  {
   "cell_type": "markdown",
   "metadata": {},
   "source": [
    "*6. Give a 90 % confidence interval for $θ_{0}$ and $θ_{1}$ (slide 20/40).*"
   ]
  },
  {
   "cell_type": "markdown",
   "metadata": {},
   "source": [
    "\\begin{align*}\n",
    "    MSE = \\frac{SSE}{n-2} = \\frac{1}{n-2}\\sum_{i=1}^{n}(y_{i}-\\hat{y}^{}_{i})^2\n",
    "\\end{align*}\n",
    "\n",
    "\\begin{align*}\n",
    "    s_{\\theta_{0}} = \\sqrt{MSE} \\cdot \\sqrt{\\frac{1}{n} + \\frac{\\bar{x}^2}{\\sum_{i=1}^{n}{(x_i-\\bar{x})^2}}}\n",
    "\\end{align*}\n",
    "\n",
    "\\begin{align*}\n",
    "    s_{\\theta_{1}} = \\sqrt{MSE}\\cdot \\sqrt{\\frac{1}{\\sum_{i=1}^{n}{(x_i-\\bar{x})^2}}}\n",
    "\\end{align*}"
   ]
  },
  {
   "cell_type": "markdown",
   "metadata": {},
   "source": [
    "![critical Borders of t-interval](CriticalBordersTInterval.png)"
   ]
  },
  {
   "cell_type": "code",
   "execution_count": 77,
   "metadata": {},
   "outputs": [
    {
     "name": "stdout",
     "output_type": "stream",
     "text": [
      "MSE: 1.1737767584097862\n",
      "theta_0: 9.428571428571429\n",
      "S0_0: 0.40949040777354095\n",
      "theta_1: 5.7712708294655055\n",
      "S0_1: 0.44230019187760283\n",
      "Interval theta0: [7.667762675145203 ; 11.189380181997654]\n",
      "Interval theta1: [3.8693800043918136 ; 7.673161654539197]\n"
     ]
    }
   ],
   "source": [
    "MSE = SSE/(len(x)-2)\n",
    "print(\"MSE: \" + str(MSE))\n",
    "\n",
    "thet1 = Sxy/Sxx\n",
    "thet0 = mean_y-thet1*mean_x\n",
    "\n",
    "Sthet0 = np.sqrt(MSE)*np.sqrt((1/len(x))+(mean_x**2)/(np.sum((x-mean_x)**2)))\n",
    "print(\"theta_0: \" + str(thet0))\n",
    "print(\"S0_0: \" + str(Sthet0))\n",
    "\n",
    "Sthet1 = (np.sqrt(MSE))*np.sqrt(1/(np.sum((x-mean_x)**2)))\n",
    "print(\"theta_1: \" + str(thet1))\n",
    "print(\"S0_1: \" + str(Sthet1))\n",
    "\n",
    "print(\"Interval theta0: [\" + str(thet0 - (4.3*Sthet0)) + \" ; \" + str(thet0 + (4.3*Sthet0)) + \"]\")\n",
    "\n",
    "print(\"Interval theta1: [\" + str(thet1 - (4.3*Sthet1)) + \" ; \" + str(thet1 + (4.3*Sthet1)) + \"]\")"
   ]
  },
  {
   "cell_type": "markdown",
   "metadata": {},
   "source": [
    "# Exercise 4: Multiple Linear Regression"
   ]
  },
  {
   "cell_type": "markdown",
   "metadata": {},
   "source": [
    "Repeat and try to understand the computations on slide 30/40. In particular You must be able to\n",
    "build matrix **X** and write down the (overdetermined) system of equations on slide 29/40."
   ]
  },
  {
   "cell_type": "code",
   "execution_count": 78,
   "metadata": {},
   "outputs": [
    {
     "name": "stdout",
     "output_type": "stream",
     "text": [
      "[[55.656529517 ]\n",
      " [11.1231791464]\n",
      " [17.4955277281]]\n"
     ]
    }
   ],
   "source": [
    "# Create the 8x2 matrix and fill in the values\n",
    "X = np.matrix([[2,1.1],[2,1.9],[4,2.0],[5,1.5],[6,1.3],[7,2.1],[4,1.8],[5,2.5]])\n",
    "# Count the rows\n",
    "n = X.shape[0]\n",
    "# Create the y vector, should have the same amount of rows as X\n",
    "y = np.matrix([93,106,146,140,151,158,130,159])\n",
    "# Transpose the 1x8 to a 8x1 matrix\n",
    "y = np.reshape(y,( - 1,1))\n",
    "# Prepend a column of ones to X (the amount of theta0 to be added)\n",
    "X_ext = np.c_[np.ones((n,1)),X]\n",
    "# Calculate (X^T*X)^-1*X^T*y\n",
    "theta = np.linalg.inv(X_ext.T.dot(X_ext)).dot(X_ext.T).dot(y)\n",
    "print(theta)"
   ]
  },
  {
   "cell_type": "code",
   "execution_count": null,
   "metadata": {},
   "outputs": [],
   "source": []
  }
 ],
 "metadata": {
  "author": "ld",
  "kernelspec": {
   "display_name": "Python 3",
   "language": "python",
   "name": "python3"
  },
  "language_info": {
   "codemirror_mode": {
    "name": "ipython",
    "version": 3
   },
   "file_extension": ".py",
   "mimetype": "text/x-python",
   "name": "python",
   "nbconvert_exporter": "python",
   "pygments_lexer": "ipython3",
   "version": "3.7.0"
  },
  "latex_envs": {
   "LaTeX_envs_menu_present": true,
   "autoclose": false,
   "autocomplete": true,
   "bibliofile": "biblio.bib",
   "cite_by": "apalike",
   "current_citInitial": 1,
   "eqLabelWithNumbers": true,
   "eqNumInitial": 1,
   "hotkeys": {
    "equation": "Ctrl-E",
    "itemize": "Ctrl-I"
   },
   "labels_anchors": false,
   "latex_user_defs": false,
   "report_style_numbering": false,
   "user_envs_cfg": false
  }
 },
 "nbformat": 4,
 "nbformat_minor": 2
}
