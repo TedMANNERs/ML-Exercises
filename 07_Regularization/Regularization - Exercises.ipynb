{
 "cells": [
  {
   "cell_type": "markdown",
   "metadata": {},
   "source": [
    "# Exercise 1: Simple Example from Lecture\n",
    "\n",
    "Add a section to the Jupyter `NotebookRidge+LASSO_Regression.ipynb` that finds the optimal regulariza-tion hyperparameterλ. In order to do so, we will use LASSO regression and proceed as follows"
   ]
  },
  {
   "cell_type": "markdown",
   "metadata": {},
   "source": [
    "1. For every value $\\lambda_{0}=0,\\lambda_{1}=0.01$ and from there always doubleλuntil You have reached a point, where tocross validation error starts to grow again (due to overfitting). So $\\lambda_{12}=10.24$ is the 12th value of $\\lambda$ but it need not be the largest in this example.\n",
    "\n",
    "a) Using the training set compute\n",
    "\n",
    "$$\n",
    "\\begin{matrix}\n",
    "\\theta_{k}=argmin(J_{train}(\\theta)+\\lambda\\Omega(\\theta)) & \\text{where $k$ is one of the numbers 1,2,3,...}\n",
    "\\end{matrix}\n",
    "$$\n",
    "\n",
    "Then compute the error in the cross validation set\n",
    "\n",
    "\\begin{align*}\n",
    "    (J_{cv}(\\theta_{k}+\\lambda\\Omega(\\theta_{k}))\n",
    "\\end{align*}\n",
    "\n",
    "b. Plot these errors for this value of $\\lambda$\n"
   ]
  },
  {
   "cell_type": "code",
   "execution_count": null,
   "metadata": {},
   "outputs": [],
   "source": []
  },
  {
   "cell_type": "markdown",
   "metadata": {},
   "source": [
    "2. Once You notice the growing tendency of the error in the cross validation set depending on the regularization parameter $\\lambda$, stop after the next larger value of $\\lambda$"
   ]
  },
  {
   "cell_type": "code",
   "execution_count": null,
   "metadata": {},
   "outputs": [],
   "source": []
  },
  {
   "cell_type": "markdown",
   "metadata": {},
   "source": [
    "3. Find the value for $\\lambda$ which leads to the smallest cross validation error."
   ]
  },
  {
   "cell_type": "code",
   "execution_count": null,
   "metadata": {},
   "outputs": [],
   "source": []
  },
  {
   "cell_type": "markdown",
   "metadata": {},
   "source": [
    "4. Print the corresponding coefficients of the regression polynomial and draw it."
   ]
  },
  {
   "cell_type": "code",
   "execution_count": null,
   "metadata": {},
   "outputs": [],
   "source": []
  },
  {
   "cell_type": "markdown",
   "metadata": {},
   "source": [
    "# Exercise 4: Real World Exmples\n",
    "\n",
    "Fill in the missing sections in the Real World Example of `regularization_gaps.ipynb` and make the Jupyter Notebook runnable. Hand it in via E-Mail to Tim vor der Brück (E-Mail-Address: `tim.vorderbrueck@hslu.ch`) no later than Tuesday, May 1st, 2018"
   ]
  }
 ],
 "metadata": {
  "kernelspec": {
   "display_name": "Python 3",
   "language": "python",
   "name": "python3"
  },
  "language_info": {
   "codemirror_mode": {
    "name": "ipython",
    "version": 3
   },
   "file_extension": ".py",
   "mimetype": "text/x-python",
   "name": "python",
   "nbconvert_exporter": "python",
   "pygments_lexer": "ipython3",
   "version": "3.7.3"
  }
 },
 "nbformat": 4,
 "nbformat_minor": 2
}
